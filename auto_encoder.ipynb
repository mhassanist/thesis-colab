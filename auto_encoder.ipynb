{
  "nbformat": 4,
  "nbformat_minor": 0,
  "metadata": {
    "colab": {
      "provenance": [],
      "toc_visible": true,
      "authorship_tag": "ABX9TyMNhsj58BYptYoTD9tTYUkE",
      "include_colab_link": true
    },
    "kernelspec": {
      "name": "python3",
      "display_name": "Python 3"
    },
    "language_info": {
      "name": "python"
    }
  },
  "cells": [
    {
      "cell_type": "markdown",
      "metadata": {
        "id": "view-in-github",
        "colab_type": "text"
      },
      "source": [
        "<a href=\"https://colab.research.google.com/github/mhassanist/thesis-colab/blob/main/auto_encoder.ipynb\" target=\"_parent\"><img src=\"https://colab.research.google.com/assets/colab-badge.svg\" alt=\"Open In Colab\"/></a>"
      ]
    },
    {
      "cell_type": "code",
      "execution_count": null,
      "metadata": {
        "id": "LL2DG5dzjzEs"
      },
      "outputs": [],
      "source": [
        "!unrar x Depth.rar"
      ]
    },
    {
      "cell_type": "code",
      "source": [
        "from keras.utils import to_categorical\n",
        "import matplotlib.pyplot as plt\n",
        "import numpy as np\n",
        "import matplotlib.pyplot as plt\n",
        "import cv2\n",
        "import struct\n",
        "import os\n",
        "import time\n",
        "import tensorflow as tf\n",
        "from sklearn.model_selection import train_test_split\n",
        "from tensorflow.keras import layers\n",
        "from keras.models import Sequential\n",
        "from keras.layers import Conv2D, Dropout, MaxPooling2D, Flatten, Dense, Reshape, Lambda\n",
        "from keras.models import load_model\n",
        "from sklearn.decomposition import PCA\n",
        "from tensorflow.keras.layers import Input, Conv3D, MaxPooling3D, UpSampling3D, UpSampling2D\n",
        "from tensorflow.keras.models import Model\n",
        "from tensorflow.keras.layers import Input, Conv3D, MaxPooling3D, UpSampling3D, LSTM, Dense, Conv2DTranspose\n",
        "from tensorflow.keras.models import Model\n",
        "from sklearn.metrics import mean_squared_error, accuracy_score, confusion_matrix\n"
      ],
      "metadata": {
        "id": "FtxSr4RQUIcg"
      },
      "execution_count": null,
      "outputs": []
    },
    {
      "cell_type": "code",
      "source": [
        "# Define the path to the dataset directory\n",
        "dataset_path = \"Depth/\"\n",
        "action_label_dict = {\n",
        "    \"a01\": \"High Arm Wave\",\n",
        "    \"a02\": \"Horizontal Arm Wave\",\n",
        "    \"a03\": \"Hammer\",\n",
        "    \"a04\": \"Hand Catch\",\n",
        "    \"a05\": \"Forward Punch\",\n",
        "    \"a06\": \"High Throw\",\n",
        "    \"a07\": \"Draw X\",\n",
        "    \"a08\": \"Draw Tick\",\n",
        "    \"a09\": \"Draw Circle\",\n",
        "    \"a10\": \"Hand Clap\",\n",
        "    \"a11\": \"Two Hand Wave\",\n",
        "    \"a12\": \"Side-Boxing\",\n",
        "    \"a13\": \"Bend\",\n",
        "    \"a14\": \"Forward Kick\",\n",
        "    \"a15\": \"Side Kick\",\n",
        "    \"a16\": \"Jogging\",\n",
        "    \"a17\": \"Tennis Swing\",\n",
        "    \"a18\": \"Tennis Serve\",\n",
        "    \"a19\": \"Golf Swing\",\n",
        "    \"a20\": \"Pick Up and Throw\"\n",
        "}\n",
        "\n",
        "action_label_dict = {\n",
        "    \"a01\": 1,\n",
        "    \"a02\": 2,\n",
        "    \"a03\": 3,\n",
        "    \"a04\": 4,\n",
        "    \"a05\": 5,\n",
        "    \"a06\": 6,\n",
        "    \"a07\": 7,\n",
        "    \"a08\": 8,\n",
        "    \"a09\": 9,\n",
        "    \"a10\": 10,\n",
        "    \"a11\": 11,\n",
        "    \"a12\": 12,\n",
        "    \"a13\": 13,\n",
        "    \"a14\": 14,\n",
        "    \"a15\": 15,\n",
        "    \"a16\": 16,\n",
        "    \"a17\": 17,\n",
        "    \"a18\": 18,\n",
        "    \"a19\": 19,\n",
        "    \"a20\": 20\n",
        "}\n",
        "action_labels = {}\n",
        "activity_labels = []\n",
        "\n",
        "num_classes = 21\n",
        "\n",
        "activity_samples = []\n",
        "\n",
        "max_n_frames = 0\n",
        "for filename in os.listdir(dataset_path)[:100]:\n",
        "    if not filename.endswith(\"depth.bin\"):\n",
        "        continue\n",
        "\n",
        "    action_label = filename.split(\"_\")[0]\n",
        "    activity_labels.append(action_label_dict[action_label])\n",
        "\n",
        "    # Load the depth map data from the binary file\n",
        "    with open(dataset_path + filename, \"rb\") as f:\n",
        "        i,  = struct.unpack('i', f.read(4))  # frame count\n",
        "        # print(f\"Frame count is {i}\")\n",
        "        w,  = struct.unpack('i', f.read(4))  # width\n",
        "        h,  = struct.unpack('i', f.read(4))  # height\n",
        "\n",
        "        single_activity_list = []\n",
        "        # read frame by frame\n",
        "        for frame in range(i):\n",
        "            bytesread = f.read(w*h*4)\n",
        "            depth_data = np.frombuffer(bytesread, dtype=np.uint32)\n",
        "            single_depth_img = depth_data.reshape((240, 320))\n",
        "\n",
        "\n",
        "            # print(single_depth_img.shape)\n",
        "            single_activity_list.append(single_depth_img)\n",
        "\n",
        "        activity_samples.append(single_activity_list)\n"
      ],
      "metadata": {
        "colab": {
          "base_uri": "https://localhost:8080/"
        },
        "id": "LdjHQTooj4N5",
        "outputId": "b9b78a9f-f7f5-4493-c6cb-8ab5cd5444b9"
      },
      "execution_count": null,
      "outputs": [
        {
          "output_type": "stream",
          "name": "stdout",
          "text": [
            "Loading dataset...\n"
          ]
        }
      ]
    },
    {
      "cell_type": "code",
      "source": [
        "image_sample = activity_samples[3][15]"
      ],
      "metadata": {
        "id": "fpDCJu3RkDT-"
      },
      "execution_count": null,
      "outputs": []
    },
    {
      "cell_type": "code",
      "source": [
        "plt.imshow(image_sample, cmap='gray')\n"
      ],
      "metadata": {
        "colab": {
          "base_uri": "https://localhost:8080/",
          "height": 452
        },
        "id": "O0uh891dTpS9",
        "outputId": "7c16ac67-41d6-41f3-94f0-ddc468fd81e7"
      },
      "execution_count": null,
      "outputs": [
        {
          "output_type": "execute_result",
          "data": {
            "text/plain": [
              "<matplotlib.image.AxesImage at 0x790bc0423310>"
            ]
          },
          "metadata": {},
          "execution_count": 73
        },
        {
          "output_type": "display_data",
          "data": {
            "text/plain": [
              "<Figure size 640x480 with 1 Axes>"
            ],
            "image/png": "[encoded data removed]"
          },
          "metadata": {}
        }
      ]
    },
    {
      "cell_type": "code",
      "source": [
        "from skimage.transform import resize\n",
        "from keras.optimizers import Adam\n",
        "\n",
        "single_depth_img = image_sample\n",
        "resized_depth_img = resize(single_depth_img, (64, 64), anti_aliasing=True)\n",
        "\n",
        "normalized_depth_img = resized_depth_img.astype('float32') / 255.0\n",
        "\n",
        "reshaped_depth_img = normalized_depth_img.reshape((1, 64, 64, 1))\n",
        "\n",
        "\n",
        "# Input layer\n",
        "# Grayscale image (1 channel)\n",
        "encoder_input = Input(shape=(64, 64, 1))\n",
        "encoder_flattened = Flatten()(encoder_input)\n",
        "encoder_output = Dense(256, activation='relu')(encoder_flattened)\n",
        "\n",
        "encoder = Model(encoder_input, encoder_output, name = \"encoder\")\n",
        "\n",
        "decoder_input = Dense(4096, activation='relu')(encoder_output)\n",
        "decoder_output = Reshape((64,64,1))(decoder_input)\n",
        "\n",
        "opt = Adam(lr=0.001, decay = 1e-6)\n",
        "\n",
        "autoencoder = Model(encoder_input, decoder_output, name = \"autoencoder\")\n",
        "\n",
        "#autoencoder.summary()\n",
        "autoencoder.compile(opt, loss='mse')\n",
        "autoencoder.fit(reshaped_depth_img, reshaped_depth_img, epochs=10, batch_size=32 )\n",
        "\n",
        "\n",
        "mse = autoencoder.evaluate(\n",
        "                reshaped_depth_img, reshaped_depth_img, verbose=0)\n",
        "\n",
        "print(\"Mean Squared Error (MSE):\", mse)\n"
      ],
      "metadata": {
        "colab": {
          "base_uri": "https://localhost:8080/"
        },
        "id": "muDUiCIvT6Ei",
        "outputId": "b8a36f3a-baa0-4220-f56d-baa742637028"
      },
      "execution_count": null,
      "outputs": [
        {
          "output_type": "stream",
          "name": "stdout",
          "text": [
            "Epoch 1/10\n",
            "1/1 [==============================] - 0s 393ms/step - loss: 1.4831e-20\n",
            "Epoch 2/10\n",
            "1/1 [==============================] - 0s 10ms/step - loss: 1.2744e-20\n",
            "Epoch 3/10\n",
            "1/1 [==============================] - 0s 9ms/step - loss: 1.0548e-20\n",
            "Epoch 4/10\n",
            "1/1 [==============================] - 0s 9ms/step - loss: 8.8269e-21\n",
            "Epoch 5/10\n",
            "1/1 [==============================] - 0s 11ms/step - loss: 7.7279e-21\n",
            "Epoch 6/10\n",
            "1/1 [==============================] - 0s 9ms/step - loss: 7.2284e-21\n",
            "Epoch 7/10\n",
            "1/1 [==============================] - 0s 10ms/step - loss: 7.1647e-21\n",
            "Epoch 8/10\n",
            "1/1 [==============================] - 0s 12ms/step - loss: 7.3160e-21\n",
            "Epoch 9/10\n",
            "1/1 [==============================] - 0s 11ms/step - loss: 7.4971e-21\n",
            "Epoch 10/10\n",
            "1/1 [==============================] - 0s 11ms/step - loss: 7.5699e-21\n",
            "Mean Squared Error (MSE): 7.45868758339065e-21\n"
          ]
        }
      ]
    },
    {
      "cell_type": "code",
      "source": [
        "example = encoder.predict(reshaped_depth_img)\n",
        "print(example.shape)"
      ],
      "metadata": {
        "colab": {
          "base_uri": "https://localhost:8080/"
        },
        "id": "3iGuc-IRdgOo",
        "outputId": "6d211a22-6bd1-49f6-c3dc-ad344692d6fa"
      },
      "execution_count": null,
      "outputs": [
        {
          "output_type": "stream",
          "name": "stdout",
          "text": [
            "1/1 [==============================] - 0s 57ms/step\n",
            "(1, 256)\n"
          ]
        }
      ]
    },
    {
      "cell_type": "code",
      "source": [
        "plt.imshow(example.reshape(16,8), cmap=\"gray\")"
      ],
      "metadata": {
        "colab": {
          "base_uri": "https://localhost:8080/",
          "height": 447
        },
        "id": "hxP29A9HeGuo",
        "outputId": "8d8a7797-aff8-45ce-d7b7-05f038c4d780"
      },
      "execution_count": null,
      "outputs": [
        {
          "output_type": "execute_result",
          "data": {
            "text/plain": [
              "<matplotlib.image.AxesImage at 0x790b60210c70>"
            ]
          },
          "metadata": {},
          "execution_count": 81
        },
        {
          "output_type": "display_data",
          "data": {
            "text/plain": [
              "<Figure size 640x480 with 1 Axes>"
            ],
            "image/png": "[encoded data removed]"
          },
          "metadata": {}
        }
      ]
    },
    {
      "cell_type": "code",
      "source": [
        "ae_out = autoencoder.predict(reshaped_depth_img.reshape(-1,64,64,1))[0]"
      ],
      "metadata": {
        "colab": {
          "base_uri": "https://localhost:8080/"
        },
        "id": "0eyxn7mVeoim",
        "outputId": "89dca666-08db-434d-bf85-b8310e829402"
      },
      "execution_count": null,
      "outputs": [
        {
          "output_type": "stream",
          "name": "stdout",
          "text": [
            "1/1 [==============================] - 0s 73ms/step\n"
          ]
        }
      ]
    },
    {
      "cell_type": "code",
      "source": [
        "plt.imshow(ae_out, cmap=\"gray\")"
      ],
      "metadata": {
        "colab": {
          "base_uri": "https://localhost:8080/",
          "height": 449
        },
        "id": "rLf6ktCIgcAE",
        "outputId": "9f1f5af5-3846-4cb5-e551-4ab9d559b0c7"
      },
      "execution_count": null,
      "outputs": [
        {
          "output_type": "execute_result",
          "data": {
            "text/plain": [
              "<matplotlib.image.AxesImage at 0x790ba012b550>"
            ]
          },
          "metadata": {},
          "execution_count": 83
        },
        {
          "output_type": "display_data",
          "data": {
            "text/plain": [
              "<Figure size 640x480 with 1 Axes>"
            ],
            "image/png": "[encoded data removed]"
          },
          "metadata": {}
        }
      ]
    },
    {
      "cell_type": "code",
      "source": [],
      "metadata": {
        "id": "_b0gVjnDTS51"
      },
      "execution_count": null,
      "outputs": []
    },
    {
      "cell_type": "code",
      "source": [
        "activities = activity_samples\n",
        "labels = activity_labels\n",
        "\n",
        "# Preprocess frames\n",
        "def preprocess_frame(frame):\n",
        "    resized_frame = resize(frame, (224, 224))\n",
        "    normalized_frame = resized_frame / 255.0  # Normalize pixel values\n",
        "    return normalized_frame\n",
        "\n",
        "# Calculate FDN\n",
        "def calculate_fdn(frames):\n",
        "    differences = [np.mean(np.abs(frame1 - frame2)) for frame1, frame2 in zip(frames[:-1], frames[1:])]\n",
        "    return differences\n",
        "\n",
        "# Prepare data for training\n",
        "X_fmkn = []\n",
        "X_fdn = []\n",
        "y_labels = []\n",
        "\n",
        "for i, activity_frames in enumerate(activities):\n",
        "    spatial_feature_maps = []\n",
        "    fdn_values = []\n",
        "\n",
        "    for frame_list in activity_frames:\n",
        "        preprocessed_frames = [preprocess_frame(frame) for frame in frame_list]\n",
        "        spatial_feature_maps.append(preprocessed_frames)\n",
        "        fdn_values.extend(calculate_fdn(preprocessed_frames))\n",
        "\n",
        "    X_fmkn.append(spatial_feature_maps)\n",
        "    X_fdn.append(fdn_values)\n",
        "    y_labels.append(labels[i])  # Activity label for this batch\n",
        "\n",
        "X_fmkn = np.array(X_fmkn)\n",
        "X_fdn = np.array(X_fdn)\n",
        "y_labels = np.array(y_labels)\n",
        "\n",
        "y_one_hot = to_categorical(y_labels, num_classes)\n",
        "\n",
        "N = 10\n",
        "K = 32\n",
        "# Train the model\n",
        "# Build the model\n",
        "def build_har_model():\n",
        "    # CNN function to extract spatial features\n",
        "    def cnn_layers(input_shape):\n",
        "        model = tf.keras.Sequential()\n",
        "        model.add(Conv2D(64, (3, 3), activation='relu', padding='same', input_shape=input_shape))\n",
        "        model.add(Conv2D(64, (3, 3), activation='relu', padding='same'))\n",
        "        # Add more convolutional layers as needed\n",
        "        return model\n",
        "\n",
        "    # Function to calculate weighted mean\n",
        "    def weighted_mean(x):\n",
        "        fmkn, fdn = x[0], x[1]\n",
        "        return tf.reduce_sum(tf.multiply(fmkn, fdn), axis=0) / tf.reduce_sum(fdn)\n",
        "\n",
        "    # Input for spatial feature map\n",
        "    input_fmkn = Input(shape=(N, K))\n",
        "\n",
        "    # Input for temporal feature (frame change rate)\n",
        "    input_fdn = Input(shape=(N - 1,))\n",
        "\n",
        "    # Extract spatial features using CNN\n",
        "    cnn_output = cnn_layers((224, 224, 3))(input_fmkn)\n",
        "\n",
        "    # Calculate spatiotemporal features using weighted mean\n",
        "    spatiotemporal_features = Lambda(weighted_mean)([cnn_output, input_fdn])\n",
        "\n",
        "    # Create MLP for action classification\n",
        "    mlp_input = Flatten()(spatiotemporal_features)\n",
        "    mlp_output = Dense(num_classes, activation='softmax')(mlp_input)\n",
        "\n",
        "    # Create the final model\n",
        "    model = Model(inputs=[input_fmkn, input_fdn], outputs=mlp_output)\n",
        "    return model\n",
        "\n",
        "# Prepare data for training as before\n",
        "\n",
        "# Build the model\n",
        "har_model = build_har_model()\n",
        "\n",
        "# Compile the model\n",
        "har_model.compile(loss='categorical_crossentropy', optimizer='adam', metrics=['accuracy'])\n",
        "\n",
        "# Train the model\n",
        "har_model.fit([X_fmkn, X_fdn], y_one_hot, epochs=10, batch_size=32)\n"
      ],
      "metadata": {
        "id": "MvAUeANAmZZh"
      },
      "execution_count": null,
      "outputs": []
    }
  ]
}